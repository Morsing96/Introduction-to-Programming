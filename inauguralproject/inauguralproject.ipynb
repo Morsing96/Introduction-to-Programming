{
 "cells": [
  {
   "cell_type": "markdown",
   "metadata": {},
   "source": [
    "# Inaugural Project"
   ]
  },
  {
   "cell_type": "markdown",
   "metadata": {},
   "source": [
    "> **Note the following:** \n",
    "> 1. This is an example of how to structure your **inaugural project**.\n",
    "> 1. Remember the general advice on structuring and commenting your code from [lecture 5](https://numeconcopenhagen.netlify.com/lectures/Workflow_and_debugging).\n",
    "> 1. Remember this [guide](https://www.markdownguide.org/basic-syntax/) on markdown and (a bit of) latex.\n",
    "> 1. Turn on automatic numbering by clicking on the small icon on top of the table of contents in the left sidebar.\n",
    "> 1. The `inauguralproject.py` file includes a function which can be used multiple times in this notebook."
   ]
  },
  {
   "cell_type": "markdown",
   "metadata": {},
   "source": [
    "Imports and set magics:"
   ]
  },
  {
   "cell_type": "code",
   "execution_count": 33,
   "metadata": {},
   "outputs": [
    {
     "ename": "SyntaxError",
     "evalue": "invalid syntax (1477477143.py, line 18)",
     "output_type": "error",
     "traceback": [
      "\u001b[0;36m  File \u001b[0;32m\"/var/folders/r2/1xrlyn0x2239x5svpgbg13_m0000gn/T/ipykernel_80873/1477477143.py\"\u001b[0;36m, line \u001b[0;32m18\u001b[0m\n\u001b[0;31m    git init https://github.com/NumEconCopenhagen/projects-2022-team-hjn.git\u001b[0m\n\u001b[0m        ^\u001b[0m\n\u001b[0;31mSyntaxError\u001b[0m\u001b[0;31m:\u001b[0m invalid syntax\n"
     ]
    }
   ],
   "source": [
    "import numpy as np\n",
    "from scipy import optimize \n",
    "from matplotlib import pyplot as plt \n",
    "plt.style.use(\"seaborn\") \n",
    "%matplotlib inline\n",
    "\n",
    "import matplotlib.pyplot as plt # baseline module\n",
    "from mpl_toolkits.mplot3d import Axes3D # for 3d figures\n",
    "plt.style.use('seaborn-whitegrid') \n",
    "\n",
    "# autoreload modules when code is run. Otherwise, python will not see recent changes. \n",
    "%load_ext autoreload\n",
    "%autoreload 2\n",
    "\n",
    "# Import your own code\n",
    "import inauguralproject\n",
    "\n",
    "git init https://github.com/NumEconCopenhagen/projects-2022-team-hjn.git\n"
   ]
  },
  {
   "cell_type": "markdown",
   "metadata": {
    "tags": []
   },
   "source": [
    "# Question 1"
   ]
  },
  {
   "cell_type": "markdown",
   "metadata": {},
   "source": [
    "**Explain how you solve the model**"
   ]
  },
  {
   "cell_type": "code",
   "execution_count": 2,
   "metadata": {
    "tags": []
   },
   "outputs": [],
   "source": [
    "# utility function \n",
    "\n",
    "\"\"\"defining parameters\"\"\"\n",
    "\n",
    "mp ={'y':1,'p':0.2,'theta':-2} # just add parameters to this dictionary\n",
    "\n",
    "\"\"\"defining functions\"\"\"\n",
    "\n",
    "def premium(q,mp):\n",
    "    return mp['p']*q\n",
    "\n",
    "def utility(z,mp):\n",
    "  \n",
    "    return (z**(1+mp['theta']))/(1+mp['theta'])\n",
    "\n",
    "\n",
    "def expected_utility(x, q, mp):\n",
    "\n",
    "    z_1 = mp['y'] - x + q - premium(q,mp)\n",
    "    z_2 = mp['y'] - premium(q,mp)\n",
    "\n",
    "    return mp['p']*utility(z_1,mp)+(1-mp['p'])*utility(z_2,mp)\n",
    "\n"
   ]
  },
  {
   "cell_type": "code",
   "execution_count": 3,
   "metadata": {},
   "outputs": [
    {
     "name": "stdout",
     "output_type": "stream",
     "text": [
      "Optimal level with loop is -1.087 at q = 0.400\n"
     ]
    }
   ],
   "source": [
    "\"\"\"i. constructing a function, that finds the optimal q for given levels of x,y,p\"\"\"\n",
    "\n",
    "x_guess=0.4 #an initial guess\n",
    "N=10\n",
    "q_optimal=np.linspace(0.0,x_guess,N)\n",
    "u_vector = np.empty(N)\n",
    "\n",
    "u_best = -np.inf # initial maximum\n",
    "q_best = np.nan # not-a-number\n",
    "\n",
    "for i,q in enumerate(q_optimal):\n",
    "    u_now = u_vector[i] = expected_utility(x_guess, q, mp)\n",
    "    if u_now>u_best:\n",
    "        q_best=q\n",
    "        u_best=expected_utility(x_guess, q, mp)\n",
    "        \n",
    "print(f'Optimal level with loop is {u_best:.3f} at q = {q_best:.3f}')\n"
   ]
  },
  {
   "cell_type": "code",
   "execution_count": 4,
   "metadata": {},
   "outputs": [
    {
     "name": "stdout",
     "output_type": "stream",
     "text": [
      "For x = 0.010 the optimal q is 0.010\n",
      "For x = 0.109 the optimal q is 0.109\n",
      "For x = 0.208 the optimal q is 0.208\n",
      "For x = 0.307 the optimal q is 0.307\n",
      "For x = 0.406 the optimal q is 0.406\n",
      "For x = 0.504 the optimal q is 0.504\n",
      "For x = 0.603 the optimal q is 0.603\n",
      "For x = 0.702 the optimal q is 0.702\n",
      "For x = 0.801 the optimal q is 0.801\n",
      "For x = 0.900 the optimal q is 0.900\n"
     ]
    }
   ],
   "source": [
    "\"\"\"ii.+iii. - making a grid and optimizing for different levels of x\"\"\" \n",
    "N=10 #number of elements\n",
    "x=np.linspace(0.01,0.9,N) # an array of N number of x's equally distributed in the range\n",
    "\n",
    "for i in x:\n",
    "    initial_guess = [i/2]\n",
    "    obj = lambda q: -expected_utility(i, q, mp)\n",
    "    res=optimize.minimize_scalar(obj, initial_guess, method=\"bounded\",bounds=(1e-5,i))\n",
    "    q_star=res.x \n",
    " \n",
    "    print(f\"For x = {i:.3f} the optimal q is {q_star:.3f}\")"
   ]
  },
  {
   "cell_type": "code",
   "execution_count": 5,
   "metadata": {
    "tags": []
   },
   "outputs": [
    {
     "data": {
      "text/plain": [
       "Text(0.5, 1.0, 'Optimal coverage amount q as a function of monetary loss x')"
      ]
     },
     "execution_count": 5,
     "metadata": {},
     "output_type": "execute_result"
    },
    {
     "data": {
      "image/png": "[encoded data removed]",
      "text/plain": [
       "<Figure size 720x288 with 1 Axes>"
      ]
     },
     "metadata": {},
     "output_type": "display_data"
    }
   ],
   "source": [
    "\"\"\"Plotting the x's and the q_star's\"\"\"\n",
    "fig = plt.figure(figsize=(10,4))\n",
    "ax = fig.add_subplot(1,1,1)\n",
    "\n",
    "ax.plot(x)\n",
    "ax.grid(True)\n",
    "\n",
    "# b. add labels\n",
    "ax.set_xlabel('$x$')\n",
    "ax.set_ylabel('$q$')\n",
    "ax.set_title('Optimal coverage amount q as a function of monetary loss x')\n"
   ]
  },
  {
   "cell_type": "markdown",
   "metadata": {},
   "source": [
    "We see that it is optimal for the coverage amount to cover all monetary loss. "
   ]
  },
  {
   "cell_type": "markdown",
   "metadata": {},
   "source": [
    "# Question 2"
   ]
  },
  {
   "cell_type": "code",
   "execution_count": 13,
   "metadata": {
    "tags": []
   },
   "outputs": [
    {
     "name": "stdout",
     "output_type": "stream",
     "text": [
      "{'y': 1, 'p': 0.2, 'theta': -2, 'x': 0.6}\n",
      "expected value for the uninsured is:\n",
      "-1.3\n"
     ]
    }
   ],
   "source": [
    "mp['x']=0.6 #adding value of x to the dictionary with all the model parameters\n",
    "print(mp) #checking to see that it is added\n",
    "\n",
    "\"\"\"checking what the expected value for the uninsured is\"\"\"\n",
    "\n",
    "def expected_utility_uninsured(mp):\n",
    "    return mp['p']*utility(mp['y'] - mp['x'],mp)+(1-mp['p'])*utility(mp['y'],mp)\n",
    "\n",
    "print(\"expected value for the uninsured is:\")\n",
    "print(expected_utility_uninsured(mp))\n",
    "\n",
    "\n"
   ]
  },
  {
   "cell_type": "code",
   "execution_count": 31,
   "metadata": {},
   "outputs": [
    {
     "name": "stdout",
     "output_type": "stream",
     "text": [
      "For q = 0.000 the optimal premium is 0.000\n",
      "For q = 1.000 the optimal premium is 1.000\n",
      "For q = 2.000 the optimal premium is 2.000\n",
      "For q = 3.000 the optimal premium is 3.000\n",
      "For q = 4.000 the optimal premium is 4.000\n",
      "For q = 5.000 the optimal premium is 5.000\n",
      "For q = 6.000 the optimal premium is 6.000\n",
      "For q = 7.000 the optimal premium is 7.000\n",
      "For q = 8.000 the optimal premium is 8.000\n",
      "For q = 9.000 the optimal premium is 9.000\n"
     ]
    }
   ],
   "source": [
    "\"\"\"Constructing grid\"\"\"\n",
    "\n",
    "N=10 #number of elements\n",
    "q=np.linspace(0.01,0.6,N) # an array of N number of x's equally distributed in the range\n",
    "premium_vector=np.zeros(N)\n",
    "\n",
    "for i, q in enumerate(q):\n",
    "    initial_guess = [i/2]\n",
    "    obj_2 = lambda x: premium(q,mp)\n",
    "    res=optimize.minimize_scalar(obj_2, initial_guess, method=\"bounded\",bounds=(0,i))\n",
    "    pi_star=res.x\n",
    "\n",
    " \n",
    "    print(f\"For q = {i:.3f} the optimal premium is {pi_star:.3f}\")\n"
   ]
  },
  {
   "cell_type": "code",
   "execution_count": null,
   "metadata": {},
   "outputs": [],
   "source": []
  },
  {
   "cell_type": "code",
   "execution_count": 29,
   "metadata": {},
   "outputs": [
    {
     "name": "stdout",
     "output_type": "stream",
     "text": [
      "For x = 0.100 the optimal q is 0.100\n",
      "For x = 0.189 the optimal q is 0.189\n",
      "For x = 0.278 the optimal q is 0.278\n",
      "For x = 0.367 the optimal q is 0.367\n",
      "For x = 0.456 the optimal q is 0.456\n",
      "For x = 0.544 the optimal q is 0.544\n",
      "For x = 0.633 the optimal q is 0.600\n",
      "For x = 0.722 the optimal q is 0.600\n",
      "For x = 0.811 the optimal q is 0.600\n",
      "For x = 0.900 the optimal q is 0.600\n"
     ]
    }
   ],
   "source": [
    "\"defining functions\"\n",
    "\n",
    "def premium(q,mp):\n",
    "    return mp['p']*q\n",
    "\n",
    "def utility(z,mp):\n",
    "  \n",
    "    return (z**(1+mp['theta']))/(1+mp['theta'])\n",
    "\n",
    "\n",
    "def expected_utility(x, q, mp):\n",
    "\n",
    "    z_1 = mp['y'] - mp['x'] + q - premium(q,mp)\n",
    "    z_2 = mp['y'] - premium(q,mp)\n",
    "\n",
    "    return mp['p']*utility(z_1,mp)+(1-mp['p'])*utility(z_2,mp)\n",
    "\n",
    "\"ii. - making a grid \" \n",
    "N=10 #number of elements\n",
    "q=np.linspace(0.1,0.9,N) # values of x\n",
    "\n",
    "for i in q:\n",
    "    obj = lambda q: -expected_utility(i, q, mp)\n",
    "    res=optimize.minimize_scalar(obj, initial_guess, method=\"bounded\",bounds=(1e-5,i))\n",
    "    q_star=res.x \n",
    " \n",
    "    print(f\"For x = {i:.3f} the optimal q is {q_star:.3f}\")"
   ]
  },
  {
   "cell_type": "markdown",
   "metadata": {},
   "source": [
    "Explain your code and procedure"
   ]
  },
  {
   "cell_type": "markdown",
   "metadata": {},
   "source": [
    "# Question 3"
   ]
  },
  {
   "cell_type": "markdown",
   "metadata": {},
   "source": [
    "Explain your code and procedure"
   ]
  },
  {
   "cell_type": "code",
   "execution_count": 101,
   "metadata": {},
   "outputs": [],
   "source": [
    "# defining parameters\n",
    "N = 10000\n",
    "alpha = 2\n",
    "beta = 7\n",
    "\n",
    "\n",
    "q=gamma*x\n",
    "\n",
    "z=mp['y']-(1-gamma)*x-pi\n",
    "\n",
    "# drawing from beta distribution\n",
    "x_3 = np.random.beta(alpha,beta,size=N)\n",
    "\n",
    "\n",
    "# c. transformation function\n",
    "from math import cos, exp, pi\n",
    "from scipy.integrate import quad\n",
    "\n",
    "def v(gamma,pi):\n",
    "    return utility(z,mp)\n",
    "\n",
    "# call quad to integrate v from 0 to 1\n",
    "res, err = quad(v, 0, 1)\n",
    "\n",
    "\n"
   ]
  },
  {
   "cell_type": "markdown",
   "metadata": {},
   "source": [
    "# Question 4"
   ]
  },
  {
   "cell_type": "code",
   "execution_count": 109,
   "metadata": {},
   "outputs": [
    {
     "ename": "NameError",
     "evalue": "name 'scipy' is not defined",
     "output_type": "error",
     "traceback": [
      "\u001b[0;31m---------------------------------------------------------------------------\u001b[0m",
      "\u001b[0;31mNameError\u001b[0m                                 Traceback (most recent call last)",
      "\u001b[0;32m/var/folders/r2/1xrlyn0x2239x5svpgbg13_m0000gn/T/ipykernel_79757/2715914598.py\u001b[0m in \u001b[0;36m<module>\u001b[0;34m\u001b[0m\n\u001b[1;32m      9\u001b[0m     \u001b[0;32mreturn\u001b[0m \u001b[0mmp\u001b[0m\u001b[0;34m[\u001b[0m\u001b[0;34m'p'\u001b[0m\u001b[0;34m]\u001b[0m\u001b[0;34m*\u001b[0m\u001b[0mq_4\u001b[0m\u001b[0;34m\u001b[0m\u001b[0;34m\u001b[0m\u001b[0m\n\u001b[1;32m     10\u001b[0m \u001b[0;34m\u001b[0m\u001b[0m\n\u001b[0;32m---> 11\u001b[0;31m \u001b[0mscipy\u001b[0m\u001b[0;34m.\u001b[0m\u001b[0moptimize\u001b[0m\u001b[0;34m.\u001b[0m\u001b[0mbroyden1\u001b[0m\u001b[0;34m(\u001b[0m\u001b[0mpremium\u001b[0m\u001b[0;34m)\u001b[0m\u001b[0;34m\u001b[0m\u001b[0;34m\u001b[0m\u001b[0m\n\u001b[0m\u001b[1;32m     12\u001b[0m \u001b[0;34m\u001b[0m\u001b[0m\n",
      "\u001b[0;31mNameError\u001b[0m: name 'scipy' is not defined"
     ]
    }
   ],
   "source": [
    "\n",
    "\n"
   ]
  },
  {
   "cell_type": "code",
   "execution_count": null,
   "metadata": {},
   "outputs": [],
   "source": []
  },
  {
   "cell_type": "markdown",
   "metadata": {},
   "source": [
    "ADD CONCISE CONLUSION."
   ]
  }
 ],
 "metadata": {
  "kernelspec": {
   "display_name": "Python 3 (ipykernel)",
   "language": "python",
   "name": "python3"
  },
  "language_info": {
   "codemirror_mode": {
    "name": "ipython",
    "version": 3
   },
   "file_extension": ".py",
   "mimetype": "text/x-python",
   "name": "python",
   "nbconvert_exporter": "python",
   "pygments_lexer": "ipython3",
   "version": "3.9.7"
  },
  "toc-autonumbering": true
 },
 "nbformat": 4,
 "nbformat_minor": 4
}
