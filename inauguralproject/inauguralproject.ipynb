{
 "cells": [
  {
   "cell_type": "markdown",
   "metadata": {},
   "source": [
    "# Inaugural Project"
   ]
  },
  {
   "cell_type": "markdown",
   "metadata": {},
   "source": [
    "> **Note the following:** \n",
    "> 1. This is an example of how to structure your **inaugural project**.\n",
    "> 1. Remember the general advice on structuring and commenting your code from [lecture 5](https://numeconcopenhagen.netlify.com/lectures/Workflow_and_debugging).\n",
    "> 1. Remember this [guide](https://www.markdownguide.org/basic-syntax/) on markdown and (a bit of) latex.\n",
    "> 1. Turn on automatic numbering by clicking on the small icon on top of the table of contents in the left sidebar.\n",
    "> 1. The `inauguralproject.py` file includes a function which can be used multiple times in this notebook."
   ]
  },
  {
   "cell_type": "markdown",
   "metadata": {},
   "source": [
    "Imports and set magics:"
   ]
  },
  {
   "cell_type": "code",
   "execution_count": 9,
   "metadata": {},
   "outputs": [
    {
     "name": "stdout",
     "output_type": "stream",
     "text": [
      "The autoreload extension is already loaded. To reload it, use:\n",
      "  %reload_ext autoreload\n"
     ]
    }
   ],
   "source": [
    "import numpy as np\n",
    "from scipy import optimize \n",
    "from matplotlib import pyplot as plt \n",
    "plt.style.use(\"seaborn\") \n",
    "%matplotlib inline\n",
    "\n",
    "import matplotlib.pyplot as plt # baseline module\n",
    "from mpl_toolkits.mplot3d import Axes3D # for 3d figures\n",
    "plt.style.use('seaborn-whitegrid') \n",
    "\n",
    "# autoreload modules when code is run. Otherwise, python will not see recent changes. \n",
    "%load_ext autoreload\n",
    "%autoreload 2\n",
    "\n",
    "# Import your own code\n",
    "import inauguralproject\n",
    "\n"
   ]
  },
  {
   "cell_type": "markdown",
   "metadata": {
    "tags": []
   },
   "source": [
    "# Question 1"
   ]
  },
  {
   "cell_type": "markdown",
   "metadata": {},
   "source": [
    "**Explain how you solve the model**"
   ]
  },
  {
   "cell_type": "code",
   "execution_count": 10,
   "metadata": {
    "tags": []
   },
   "outputs": [],
   "source": [
    "# utility function \n",
    "\n",
    "\"\"\"defining parameters\"\"\"\n",
    "\n",
    "mp ={'y':1,'p':0.2,'theta':-2} # just add parameters to this dictionary\n",
    "\n",
    "\"\"\"defining functions\"\"\"\n",
    "\n",
    "def premium(q,mp):\n",
    "    return mp['p']*q\n",
    "\n",
    "def utility(z,mp):\n",
    "  \n",
    "    return (z**(1+mp['theta']))/(1+mp['theta'])\n",
    "\n",
    "\n",
    "def expected_utility(x, q, mp):\n",
    "\n",
    "    z_1 = mp['y'] - x + q - premium(q,mp)\n",
    "    z_2 = mp['y'] - premium(q,mp)\n",
    "\n",
    "    return mp['p']*utility(z_1,mp)+(1-mp['p'])*utility(z_2,mp)\n",
    "\n"
   ]
  },
  {
   "cell_type": "code",
   "execution_count": 11,
   "metadata": {},
   "outputs": [
    {
     "name": "stdout",
     "output_type": "stream",
     "text": [
      "Optimal level with loop is -1.087 at q = 0.400\n"
     ]
    }
   ],
   "source": [
    "\"\"\"i. constructing a function, that finds the optimal q for given levels of x,y,p\"\"\"\n",
    "\n",
    "x_guess=0.4 #an initial guess\n",
    "N=10\n",
    "q_optimal=np.linspace(0.0,x_guess,N)\n",
    "u_vector = np.empty(N)\n",
    "\n",
    "u_best = -np.inf # initial maximum\n",
    "q_best = np.nan # not-a-number\n",
    "\n",
    "for i,q in enumerate(q_optimal):\n",
    "    u_now = u_vector[i] = expected_utility(x_guess, q, mp)\n",
    "    if u_now>u_best:\n",
    "        q_best=q\n",
    "        u_best=expected_utility(x_guess, q, mp)\n",
    "        \n",
    "print(f'Optimal level with loop is {u_best:.3f} at q = {q_best:.3f}')\n"
   ]
  },
  {
   "cell_type": "code",
   "execution_count": 12,
   "metadata": {},
   "outputs": [
    {
     "name": "stdout",
     "output_type": "stream",
     "text": [
      "For x = 0.010 the optimal q is 0.010\n",
      "For x = 0.109 the optimal q is 0.109\n",
      "For x = 0.208 the optimal q is 0.208\n",
      "For x = 0.307 the optimal q is 0.307\n",
      "For x = 0.406 the optimal q is 0.406\n",
      "For x = 0.504 the optimal q is 0.504\n",
      "For x = 0.603 the optimal q is 0.603\n",
      "For x = 0.702 the optimal q is 0.702\n",
      "For x = 0.801 the optimal q is 0.801\n",
      "For x = 0.900 the optimal q is 0.900\n"
     ]
    }
   ],
   "source": [
    "\"\"\"ii.+iii. - making a grid and optimizing for different levels of x\"\"\" \n",
    "N=10 #number of elements\n",
    "x=np.linspace(0.01,0.9,N) # an array of N number of x's equally distributed in the range\n",
    "\n",
    "for i in x:\n",
    "    initial_guess = [i/2]\n",
    "    obj = lambda q: -expected_utility(i, q, mp)\n",
    "    res=optimize.minimize_scalar(obj, initial_guess, method=\"bounded\",bounds=(1e-5,i))\n",
    "    q_star=res.x \n",
    " \n",
    "    print(f\"For x = {i:.3f} the optimal q is {q_star:.3f}\")"
   ]
  },
  {
   "cell_type": "code",
   "execution_count": 13,
   "metadata": {
    "tags": []
   },
   "outputs": [
    {
     "data": {
      "text/plain": [
       "Text(0.5, 1.0, 'Optimal coverage amount q as a function of monetary loss x')"
      ]
     },
     "execution_count": 13,
     "metadata": {},
     "output_type": "execute_result"
    },
    {
     "data": {
      "image/png": "[encoded data removed]",
      "text/plain": [
       "<Figure size 360x360 with 1 Axes>"
      ]
     },
     "metadata": {},
     "output_type": "display_data"
    }
   ],
   "source": [
    "\"\"\"Plotting the x's and the q_star's\"\"\"\n",
    "fig = plt.figure(figsize=(5,5))\n",
    "ax = fig.add_subplot(1,1,1)\n",
    "\n",
    "ax.plot(x)\n",
    "ax.grid(True)\n",
    "\n",
    "# b. add labels\n",
    "ax.set_xlabel('$x$')\n",
    "ax.set_ylabel('$q$')\n",
    "ax.set_title('Optimal coverage amount q as a function of monetary loss x')\n"
   ]
  },
  {
   "cell_type": "code",
   "execution_count": null,
   "metadata": {},
   "outputs": [],
   "source": []
  },
  {
   "cell_type": "markdown",
   "metadata": {},
   "source": [
    "We see that it is optimal for the coverage amount to cover all monetary loss. "
   ]
  },
  {
   "cell_type": "markdown",
   "metadata": {},
   "source": [
    "# Question 2"
   ]
  },
  {
   "cell_type": "code",
   "execution_count": 14,
   "metadata": {
    "tags": []
   },
   "outputs": [
    {
     "name": "stdout",
     "output_type": "stream",
     "text": [
      "{'y': 1, 'p': 0.2, 'theta': -2, 'x': 0.6}\n",
      "expected value for the uninsured is:\n",
      "-1.3\n"
     ]
    }
   ],
   "source": [
    "mp['x']=0.6 #adding value of x to the dictionary with all the model parameters\n",
    "print(mp) #checking to see that it is added\n",
    "\n",
    "\"\"\"checking what the expected value for the uninsured is\"\"\"\n",
    "\n",
    "def expected_utility_uninsured(mp):\n",
    "    return mp['p']*utility(mp['y'] - mp['x'],mp)+(1-mp['p'])*utility(mp['y'],mp)\n",
    "\n",
    "print(\"expected value for the uninsured is:\")\n",
    "print(expected_utility_uninsured(mp))\n"
   ]
  },
  {
   "cell_type": "code",
   "execution_count": 15,
   "metadata": {},
   "outputs": [
    {
     "name": "stdout",
     "output_type": "stream",
     "text": [
      "0.012043720247529826\n"
     ]
    }
   ],
   "source": [
    "def expected_utility_insured(q, mp, pi): #defining the utility function where pi is a variabel and not a function\n",
    "\n",
    "    z_1 = mp['y'] - mp['x'] + q - pi\n",
    "    z_2 = mp['y'] - pi\n",
    "\n",
    "    return mp['p']*utility(z_1,mp)+(1-mp['p'])*utility(z_2,mp)\n",
    "\n",
    "\"\"\"solving for pi at given level of q\"\"\"\n",
    "def optimal(pi):\n",
    "    return np.absolute(expected_utility_insured(q=0.02, mp=mp, pi=pi)-expected_utility_uninsured(mp))\n",
    "\n",
    "sol = optimize.minimize_scalar(optimal, method='bounded', bounds=(0,0.6)) #we only look at the interval [0,0.6] \n",
    "pi = sol.x\n",
    "\n",
    "print(pi)\n"
   ]
  },
  {
   "cell_type": "code",
   "execution_count": 16,
   "metadata": {
    "tags": []
   },
   "outputs": [],
   "source": [
    "\"\"\"Constructing grid\"\"\"\n",
    "\n",
    "N=10 #number of elements\n",
    "q_vector=np.linspace(0.01,0.6,N) # an array of N number of x's equally distributed in the range\n",
    "pi_vector = np.empty(N)\n",
    "\n",
    "def optimal_grid(pi):\n",
    "    return np.absolute(expected_utility_insured(q, mp, pi)-expected_utility_uninsured(mp))\n",
    "\n",
    "for i, q in enumerate(q_vector):\n",
    "    obj = lambda pi:-optimal_grid(pi)\n",
    "    initial_pi_guess=[0.0]\n",
    "    res = optimize.root(obj,initial_pi_guess)\n",
    "    pi_vector[i]=res.x\n",
    "  \n",
    "    premium_pi=mp['p']*q_vector\n"
   ]
  },
  {
   "cell_type": "code",
   "execution_count": 17,
   "metadata": {},
   "outputs": [
    {
     "name": "stdout",
     "output_type": "stream",
     "text": [
      "[0.002      0.01511111 0.02822222 0.04133333 0.05444444 0.06755556\n",
      " 0.08066667 0.09377778 0.10688889 0.12      ]\n"
     ]
    }
   ],
   "source": [
    "print(premium_pi)"
   ]
  },
  {
   "cell_type": "code",
   "execution_count": 18,
   "metadata": {},
   "outputs": [
    {
     "name": "stdout",
     "output_type": "stream",
     "text": [
      "[0.00605971 0.04386667 0.07824501 0.10914156 0.13661871 0.16084454\n",
      " 0.18206796 0.20058686 0.21671728 0.23076923]\n"
     ]
    }
   ],
   "source": [
    "print(pi_vector)"
   ]
  },
  {
   "cell_type": "code",
   "execution_count": 19,
   "metadata": {},
   "outputs": [
    {
     "data": {
      "text/plain": [
       "<matplotlib.collections.PolyCollection at 0x7f8aafab99a0>"
      ]
     },
     "execution_count": 19,
     "metadata": {},
     "output_type": "execute_result"
    },
    {
     "data": {
      "image/png": "[encoded data removed]",
      "text/plain": [
       "<Figure size 432x288 with 1 Axes>"
      ]
     },
     "metadata": {},
     "output_type": "display_data"
    }
   ],
   "source": [
    "\"\"\"figure\"\"\"\n",
    "fig = plt.figure()\n",
    "ax = fig.add_subplot(1,1,1)\n",
    "ax.plot(q_vector,premium_pi)\n",
    "ax.plot(q_vector,pi_vector)\n",
    "ax.fill_between(q_vector,pi_vector,premium_pi)\n"
   ]
  },
  {
   "cell_type": "markdown",
   "metadata": {},
   "source": [
    "Explain your code and procedure"
   ]
  },
  {
   "cell_type": "markdown",
   "metadata": {},
   "source": [
    "# Question 3"
   ]
  },
  {
   "cell_type": "markdown",
   "metadata": {},
   "source": [
    "Explain your code and procedure"
   ]
  },
  {
   "cell_type": "code",
   "execution_count": 6,
   "metadata": {
    "tags": []
   },
   "outputs": [],
   "source": [
    "# defining parameters\n",
    "N = 10000\n",
    "a = 2\n",
    "b= 7\n",
    "gamma_3=0.9\n",
    "pi_3=0.2\n",
    "\n",
    "# drawing from beta distribution\n",
    "def MC(a,b,N,mp,gamma_3,pi_3):\n",
    "    x = np.random.beta(a,b,size=N)\n",
    "    z_3=mp['y']-(1-gamma_3)*x-pi_3\n",
    "    return np.mean(utility(z_3,mp))\n"
   ]
  },
  {
   "cell_type": "code",
   "execution_count": 52,
   "metadata": {},
   "outputs": [
    {
     "name": "stdout",
     "output_type": "stream",
     "text": [
      " Utility of the first insurance policy is -1.28619\n"
     ]
    }
   ],
   "source": [
    "print(f' Utility of the first insurance policy is {MC(a,b,N,mp,gamma_3,pi_3):.5f}')"
   ]
  },
  {
   "cell_type": "markdown",
   "metadata": {},
   "source": [
    "# Question 4"
   ]
  },
  {
   "cell_type": "code",
   "execution_count": 7,
   "metadata": {},
   "outputs": [],
   "source": [
    "gamma_4=0.95\n",
    "x = np.random.beta(a,b,size=N)\n",
    "q=gamma_4*x\n"
   ]
  },
  {
   "cell_type": "code",
   "execution_count": null,
   "metadata": {},
   "outputs": [],
   "source": [
    "def MC(a,b,N,mp,gamma_4,pi_4):\n",
    "    x = np.random.beta(a,b,size=N)\n",
    "    z_4=mp['y']-(1-gamma_4)*x-pi_4\n",
    "    return np.mean(utility(z_4,mp))"
   ]
  },
  {
   "cell_type": "markdown",
   "metadata": {
    "jupyter": {
     "source_hidden": true
    },
    "tags": []
   },
   "source": [
    "ADD CONCISE CONLUSION."
   ]
  }
 ],
 "metadata": {
  "kernelspec": {
   "display_name": "Python 3 (ipykernel)",
   "language": "python",
   "name": "python3"
  },
  "language_info": {
   "codemirror_mode": {
    "name": "ipython",
    "version": 3
   },
   "file_extension": ".py",
   "mimetype": "text/x-python",
   "name": "python",
   "nbconvert_exporter": "python",
   "pygments_lexer": "ipython3",
   "version": "3.9.7"
  },
  "toc-autonumbering": true
 },
 "nbformat": 4,
 "nbformat_minor": 4
}
