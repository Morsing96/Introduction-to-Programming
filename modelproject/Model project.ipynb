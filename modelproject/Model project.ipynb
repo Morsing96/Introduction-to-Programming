{
 "cells": [
  {
   "cell_type": "code",
   "execution_count": 1,
   "id": "723fa30d-88ba-46fc-8317-66403dadf1ce",
   "metadata": {
    "tags": []
   },
   "outputs": [],
   "source": [
    "from types import SimpleNamespace\n",
    "import time\n",
    "import numpy as np\n",
    "import scipy as sp\n",
    "from scipy import linalg\n",
    "from scipy import optimize\n",
    "from scipy import interpolate\n",
    "import sympy as sm\n",
    "import math\n",
    "from math import log\n",
    "\n",
    "import ipywidgets as widgets\n",
    "from ipywidgets import interact, interactive, fixed, interact_manual\n",
    "\n",
    "import matplotlib.pyplot as plt\n",
    "plt.style.use('seaborn-whitegrid')\n",
    "from matplotlib import cm\n",
    "from mpl_toolkits.mplot3d import Axes3D"
   ]
  },
  {
   "cell_type": "markdown",
   "id": "50792431-8bcc-499a-ad83-fe841e572938",
   "metadata": {},
   "source": [
    "# Cournot competition"
   ]
  },
  {
   "cell_type": "markdown",
   "id": "faa09f94-4ac0-45b1-a26e-0253686ecdd0",
   "metadata": {},
   "source": [
    "- We consider a market with two firms (firm 1 and firm 2). They produce a homogenous good.\n",
    "- They choose simultaneously what quantity to produce each. We note these quantities as $q_1$ and $q_2$. \n",
    "- The market price is decreasing in quantity and is given as: $P(q_1,q_2)=a-q_1-bq_2$. a is a constant and b denotes the elasticity of substitution between the two goods. If $b=1$, the goods are perfect substitutes. For the solutions, we put $b=1$.\n",
    "- Both firms have the same marginal cost c, with $0 \\le c<a$, and no fixed cost.\n",
    "- The firms wish to maximize profits: ${\\pi}_i(q_i,q_j)=P(q_i+q_j)q_i-cq_i$ \n",
    "- or: ${\\pi_1}(q_1,q_2)=(a-q_1-q_2-c)q_1$ and ${\\pi_2}(q_1,q_2)=(a-q_1-q_2-c)q_2$\n",
    "- The solutions are best-response functions in a Nash Equilibrium where firm 1 is choosing the best response to firm 2 and vice versa."
   ]
  },
  {
   "cell_type": "code",
   "execution_count": 129,
   "id": "0e82afe7-15c8-4ea9-9a6c-175a56c3b19e",
   "metadata": {
    "tags": []
   },
   "outputs": [],
   "source": [
    "#defining variables\n",
    "Q=sm.symbols(\"Q\")\n",
    "q1=sm.symbols(\"q_1\") \n",
    "q2=sm.symbols(\"q_2\")\n",
    "q1_star=sm.symbols(\"q_1^*\") \n",
    "q2_star=sm.symbols(\"q_2^*\")\n",
    "qi=sm.symbols(\"q_i\") \n",
    "qj=sm.symbols(\"q_j\")\n",
    "P=sm.symbols(\"P\")\n",
    "pi_1=sm.symbols(\"\\pi_1\")\n",
    "pi_2=sm.symbols(\"\\pi_2\")\n",
    "\n",
    "#defining paraameters\n",
    "a=sm.symbols(\"a\")\n",
    "b=sm.symbols(\"b\")\n",
    "c=sm.symbols(\"c\")"
   ]
  },
  {
   "cell_type": "markdown",
   "id": "a9ad6a03-0c08-4573-92e5-e668a7b331ae",
   "metadata": {},
   "source": [
    "# Analytical solution"
   ]
  },
  {
   "cell_type": "markdown",
   "id": "c763c0be-eb24-46ed-8baf-0583f21876d4",
   "metadata": {},
   "source": [
    "To find the analytical solution, we find the derivative for each profit function as the firms wish to maximize profits."
   ]
  },
  {
   "cell_type": "markdown",
   "id": "7baa712a-6717-4677-83c5-68bb8a5c2a9a",
   "metadata": {},
   "source": [
    "Solve in **five steps**:\n",
    "\n",
    "1. **Take the derivative** wrt. $q_1$\n",
    "2. **Isolate** $q_2$ from the foc for firm 1\n",
    "3. **Substitute** in $q_2$ for firm 2\n",
    "4. **Solve the FOC** for $q_1$\n",
    "5. **substitute** to find $q_2$"
   ]
  },
  {
   "cell_type": "code",
   "execution_count": 134,
   "id": "72c408c4-511c-43b1-8ee1-9a4e352b7a13",
   "metadata": {
    "tags": []
   },
   "outputs": [],
   "source": [
    "#defining functions\n",
    "profit_1=(a-q1-b*q2-c)*q1\n",
    "profit_2=(a-q1-b*q2-c)*q2"
   ]
  },
  {
   "cell_type": "code",
   "execution_count": 138,
   "id": "f0650913-4057-4a17-8c98-642c13d5ae21",
   "metadata": {
    "tags": []
   },
   "outputs": [
    {
     "data": {
      "text/latex": [
       "$\\displaystyle a - b q_{2} - c - 2 q_{1} = 0$"
      ],
      "text/plain": [
       "Eq(a - b*q_2 - c - 2*q_1, 0)"
      ]
     },
     "execution_count": 138,
     "metadata": {},
     "output_type": "execute_result"
    }
   ],
   "source": [
    "#take derivatives of first profit function wrt. q_2\n",
    "foc_1 = sm.diff(profit_1,q1)\n",
    "sm.Eq(foc_1,0)"
   ]
  },
  {
   "cell_type": "code",
   "execution_count": 140,
   "id": "6b14ad17-e19b-400f-8c87-0c778bcc109e",
   "metadata": {},
   "outputs": [
    {
     "data": {
      "text/latex": [
       "$\\displaystyle a - 2 b q_{2} - c - q_{1} = 0$"
      ],
      "text/plain": [
       "Eq(a - 2*b*q_2 - c - q_1, 0)"
      ]
     },
     "execution_count": 140,
     "metadata": {},
     "output_type": "execute_result"
    }
   ],
   "source": [
    "#take derivatives of second profit function\n",
    "foc_2 = sm.diff(profit_2,q2)\n",
    "sm.Eq(foc_2,0)"
   ]
  },
  {
   "cell_type": "code",
   "execution_count": 141,
   "id": "bf8ab692-8f4c-4211-9d14-09f36e8f1bba",
   "metadata": {
    "tags": []
   },
   "outputs": [
    {
     "data": {
      "text/latex": [
       "$\\displaystyle q_{1} = \\frac{a}{2} - \\frac{b q_{2}}{2} - \\frac{c}{2}$"
      ],
      "text/plain": [
       "Eq(q_1, a/2 - b*q_2/2 - c/2)"
      ]
     },
     "execution_count": 141,
     "metadata": {},
     "output_type": "execute_result"
    }
   ],
   "source": [
    "#isolate q_1 in foc_1\n",
    "q1_from_profit_1 = sm.solve(sm.Eq(foc_1,0), q1)\n",
    "q1_from_profit_1[0]\n",
    "sm.Eq(q1,q1_from_profit_1[0])"
   ]
  },
  {
   "cell_type": "code",
   "execution_count": 142,
   "id": "490cbb2b-a9be-47c7-be3c-6d292a21b3fb",
   "metadata": {},
   "outputs": [
    {
     "data": {
      "text/latex": [
       "$\\displaystyle \\frac{a}{2} - \\frac{3 b q_{2}}{2} - \\frac{c}{2} = 0$"
      ],
      "text/plain": [
       "Eq(a/2 - 3*b*q_2/2 - c/2, 0)"
      ]
     },
     "execution_count": 142,
     "metadata": {},
     "output_type": "execute_result"
    }
   ],
   "source": [
    "#substitute in to foc_2 \n",
    "foc_2_subs=foc_2.subs(q1,q1_from_profit_1[0])\n",
    "sm.Eq(foc_2_subs,0)"
   ]
  },
  {
   "cell_type": "code",
   "execution_count": 143,
   "id": "c7859d3b-61fd-4b48-a570-dd5b10afbc0b",
   "metadata": {
    "tags": []
   },
   "outputs": [
    {
     "data": {
      "text/latex": [
       "$\\displaystyle q^{*}_{2} = \\frac{a - c}{3 b}$"
      ],
      "text/plain": [
       "Eq(q_2^*, (a - c)/(3*b))"
      ]
     },
     "execution_count": 143,
     "metadata": {},
     "output_type": "execute_result"
    }
   ],
   "source": [
    "#isolate q2\n",
    "q_2_foc_2_subs=sm.solve(sm.Eq(foc_2_subs,0), q2)\n",
    "sm.Eq(q2_star,q_2_foc_2_subs[0])"
   ]
  },
  {
   "cell_type": "markdown",
   "id": "2a68388b-a8e1-41c1-bd34-b1cac0ec6aa9",
   "metadata": {},
   "source": [
    "As the firms produce a homogenous good, we get the following solution:\n",
    "$q_1^*=q_2^*=(a-c)/3$"
   ]
  },
  {
   "cell_type": "markdown",
   "id": "40b7d26d-fd6a-4e0c-af0b-495443ed0ff6",
   "metadata": {},
   "source": [
    "For $a=3$ and $c=2$:\n",
    "$q_1^*=q_2^*=1/3$"
   ]
  },
  {
   "cell_type": "markdown",
   "id": "d4ec6e74-e216-4229-b091-8d125410a9a9",
   "metadata": {},
   "source": [
    "# Numerical solution"
   ]
  },
  {
   "cell_type": "code",
   "execution_count": 149,
   "id": "e1ba42c1-36f4-4b65-add7-df1368918513",
   "metadata": {
    "tags": []
   },
   "outputs": [],
   "source": [
    "#defining functions\n",
    "#market price as a function of quantity\n",
    "def p(q1,q2,a,b):\n",
    "    p = a - q1 - b*q2\n",
    "    return p\n",
    "\n",
    "\n",
    "#profits for firm 1\n",
    "def pi_1(q1,q2,a,b,c):\n",
    "    profits_1 = (p(q1,q2,a,b)-c)*q1\n",
    "    return profits_1\n",
    "\n",
    "#profits for firm 2\n",
    "def pi_2(q1,q2,a,b,c):\n",
    "    profits_2 = (p(q1,q2,a,b)-c)*q2\n",
    "    return profits_2"
   ]
  },
  {
   "cell_type": "code",
   "execution_count": 145,
   "id": "9aefda88-8846-4d1f-a311-d481cbcbf5fb",
   "metadata": {},
   "outputs": [],
   "source": [
    "#Defining a lower boundary, the lowest value of production quantity\n",
    "q0 = [0]\n",
    "\n",
    "#best responses \n",
    "def bestresp_1(q2,a,b,c):\n",
    "    q1_star_num = optimize.minimize(lambda q0: -pi_1(q0,q2,a,b,c), q0).x[0]\n",
    "    return q1_star_num\n",
    "\n",
    "def bestresp_2(q1,a,b,c):\n",
    "    q2_star_num = optimize.minimize(lambda q0: -pi_2(q1,q0,a,b,c), q0).x[0]\n",
    "    return q2_star_num"
   ]
  },
  {
   "cell_type": "markdown",
   "id": "544f363c-7778-4ed0-a1cb-b5eeeff785a3",
   "metadata": {
    "tags": []
   },
   "source": [
    "We want to define a nash-equilibrium. This is done by looking for a fixed point where the best response for one firm is equal to what the other firm produces such that:"
   ]
  },
  {
   "cell_type": "markdown",
   "id": "f1b6622d-d9b0-4214-95d4-0a1a97a757cb",
   "metadata": {},
   "source": [
    "$\\begin{pmatrix} q_1^* \\\\ q_2^* \\end{pmatrix} = \\begin{pmatrix} bestresp_1(q_2^*) \\\\ bestresp_2(q_1^*) \\end{pmatrix}$"
   ]
  },
  {
   "cell_type": "code",
   "execution_count": 146,
   "id": "7fb50751-8d65-4720-aa37-2bd221339a17",
   "metadata": {},
   "outputs": [],
   "source": [
    "#Defining a nash-equilibrium as a fixed point\n",
    "def nash_eq(q,param): # vector param = (a,c)\n",
    "    return np.array(q)-np.array([bestresp_1(q[1],param[0],param[1],param[2]),bestresp_2(q[0],param[0],param[1],param[2])])"
   ]
  },
  {
   "cell_type": "code",
   "execution_count": 151,
   "id": "2213a7a5-227d-4c1b-a2de-42bbeeb401ce",
   "metadata": {},
   "outputs": [],
   "source": [
    "inital_values = [0.1,0.1]\n",
    "param = [3,1,2]"
   ]
  },
  {
   "cell_type": "code",
   "execution_count": 152,
   "id": "a2a1cf6f-58c3-416a-8a5b-b4003911da0b",
   "metadata": {
    "tags": []
   },
   "outputs": [
    {
     "name": "stdout",
     "output_type": "stream",
     "text": [
      "The Nash Equilibrium is at: [0.33333333 0.33333333]\n"
     ]
    }
   ],
   "source": [
    "solver = optimize.fsolve(nash_eq,inital_values, args = (param))\n",
    "print(f'The Nash Equilibrium is at: {solver}')"
   ]
  },
  {
   "cell_type": "markdown",
   "id": "cf406c9c-ad91-448c-8162-3077b84fbea7",
   "metadata": {},
   "source": [
    "# Plotting the results"
   ]
  },
  {
   "cell_type": "code",
   "execution_count": 154,
   "id": "446a6c4b-77d2-45fd-90c0-8d7bf91ca9e4",
   "metadata": {
    "tags": []
   },
   "outputs": [
    {
     "data": {
      "text/plain": [
       "[<matplotlib.lines.Line2D at 0x7f8b3bb3e5b0>]"
      ]
     },
     "execution_count": 154,
     "metadata": {},
     "output_type": "execute_result"
    },
    {
     "data": {
      "image/png": "[encoded data removed]",
      "text/plain": [
       "<Figure size 432x288 with 1 Axes>"
      ]
     },
     "metadata": {},
     "output_type": "display_data"
    }
   ],
   "source": [
    "production_f2 = np.arange(0,5,0.1)\n",
    "production_f1 = []\n",
    "\n",
    "# b: creating figure \n",
    "for q2 in production_f2:\n",
    "    q1 = round(bestresp_1(q2,8,1,0),3)\n",
    "    production_f1.append(q1)\n",
    "\n",
    "plt.title(\"Best responses function and the Nash equilibrium\")\n",
    "plt.ylabel(\"$q_1$\")\n",
    "plt.xlabel(\"$q_2$\")\n",
    "plt.plot(production_f2, production_f1, color='blue')\n",
    "plt.plot(production_f1, production_f2, color='magenta')\n"
   ]
  },
  {
   "cell_type": "markdown",
   "id": "5d607391-9e6f-40ae-a939-c6b48d3d3f28",
   "metadata": {},
   "source": [
    "For the following interactive graph, we want to see what happens if $b≠1$ so the goods are not perfect subtitutes."
   ]
  },
  {
   "cell_type": "code",
   "execution_count": 166,
   "id": "cec209c8-590e-4b3c-9ff2-af61ea0f5582",
   "metadata": {
    "tags": []
   },
   "outputs": [
    {
     "data": {
      "application/vnd.jupyter.widget-view+json": {
       "model_id": "08bcd48e2a1b4df6be5f946c30e64e63",
       "version_major": 2,
       "version_minor": 0
      },
      "text/plain": [
       "interactive(children=(FloatSlider(value=1.0, description='$b$', max=5.0, min=1.0), Output()), _dom_classes=('w…"
      ]
     },
     "metadata": {},
     "output_type": "display_data"
    },
    {
     "data": {
      "text/plain": [
       "<function __main__.f(substitution_rate)>"
      ]
     },
     "execution_count": 166,
     "metadata": {},
     "output_type": "execute_result"
    }
   ],
   "source": [
    "# a: defining production levels \n",
    "q_1_interactive = np.arange(0,1,0.1)\n",
    "q_2_interactive = np.arange(0,1,0.1)\n",
    "\n",
    "# b: \n",
    "def f(substitution_rate):\n",
    "\n",
    "    x = []\n",
    "    y = []\n",
    "\n",
    "    for q2 in q_2_interactive:\n",
    "        q1 = round(bestresp_1(q2,3,substitution_rate,2),3)\n",
    "        x.append(q1)\n",
    "\n",
    "    for q1 in q_1_interactive:\n",
    "        q2 = round(bestresp_2(q1,3,substitution_rate,2),3)\n",
    "        y.append(q2)\n",
    "\n",
    "    plt.title(\"Best response for firm 1 (pink) and best response for\\nfirm 2 (blue) given produciton level of the other firm\")\n",
    "    plt.ylabel(\"$BR(q_i)$\")\n",
    "    plt.xlabel(\"$q_i$\")\n",
    "    plt.plot(q_2_interactive,x,color='blue')\n",
    "    plt.plot(q_1_interactive,y,color='magenta')\n",
    "\n",
    "widgets.interact(f,\n",
    "    substitution_rate = widgets.FloatSlider(description=\"$b$\",min=1,max=5),\n",
    " )"
   ]
  },
  {
   "cell_type": "markdown",
   "id": "35fd7bc7-3c53-4897-8ecc-6db3c78a8f1b",
   "metadata": {},
   "source": [
    "According to the analytical solution, the optimal quantity for firm 2, $q_2^*$, will be lower when b is higher. This is also what see in the graph. As b tends to infinity, $q_2^*$ tends to 0."
   ]
  },
  {
   "cell_type": "markdown",
   "id": "864f8fee-d134-4ebd-b7cd-c61c28221b21",
   "metadata": {},
   "source": [
    "# Model extension: Cournot model with three firms"
   ]
  },
  {
   "cell_type": "code",
   "execution_count": 94,
   "id": "3a1ad8e3-5417-4274-a283-100859b318bf",
   "metadata": {},
   "outputs": [],
   "source": [
    "# Define the functions for the three-firms case\n",
    "def p3(q1,q2,q3,a):\n",
    "    p3 = a - q1 - q2 - q3\n",
    "    return p3\n",
    "\n",
    "#profits for firm 1\n",
    "def pi3_1(q1,q2,q3,a,c):\n",
    "    profits_1 = (p3(q1,q2,q3,a)-c)*q1\n",
    "    return profits_1\n",
    "\n",
    "#profits for firm 2\n",
    "def pi3_2(q1,q2,q3,a,c):\n",
    "    profits_2 = (p3(q1,q2,q3,a)-c)*q2\n",
    "    return profits_2\n",
    "\n",
    "#profits for firm 3\n",
    "def pi3_3(q1,q2,q3,a,c):\n",
    "    profits_3 = (p3(q1,q2,q3,a)-c)*q3\n",
    "    return profits_3"
   ]
  },
  {
   "cell_type": "code",
   "execution_count": 95,
   "id": "7728eb18-3140-4c7f-bdb2-99bc66291f41",
   "metadata": {},
   "outputs": [],
   "source": [
    "#Lowest value\n",
    "q0 = [0]\n",
    "\n",
    "#best responses \n",
    "def bestresp3_1(q2,q3,a,c):\n",
    "    q1_star_num = optimize.minimize(lambda q0: -pi3_1(q0,q2,q3,a,c), q0).x[0]\n",
    "    return q1_star_num\n",
    "\n",
    "def bestresp3_2(q1,q3,a,c):\n",
    "    q2_star_num = optimize.minimize(lambda q0: -pi3_2(q1,q0,q3,a,c), q0).x[0]\n",
    "    return q2_star_num\n",
    "\n",
    "def bestresp3_3(q1,q2,a,c):\n",
    "    q3_star_num = optimize.minimize(lambda q0: -pi3_3(q1,q2,q0,a,c), q0).x[0]\n",
    "    return q3_star_num"
   ]
  },
  {
   "cell_type": "code",
   "execution_count": 96,
   "id": "7f71b1e5-82bd-421f-9a77-a625a094cf63",
   "metadata": {
    "tags": []
   },
   "outputs": [],
   "source": [
    "def nash_eq_3f(q,param): # vector param = (a,c)\n",
    "    return np.array(q)-np.array([bestresp3_1(q[1],q[2],param[0],param[1]),bestresp3_2(q[0],q[2],param[0],param[1]),bestresp3_3(q[0],q[1],param[0],param[1])])"
   ]
  },
  {
   "cell_type": "code",
   "execution_count": 97,
   "id": "7a0ce231-22b2-4e58-8300-8afd6727d2a5",
   "metadata": {},
   "outputs": [],
   "source": [
    "inital_values_3f = [1,1,1]\n",
    "param = [3,2]"
   ]
  },
  {
   "cell_type": "code",
   "execution_count": 98,
   "id": "9002ea94-c2b6-4b5a-a003-7ceaf399b334",
   "metadata": {
    "tags": []
   },
   "outputs": [
    {
     "name": "stdout",
     "output_type": "stream",
     "text": [
      "The Nash Equilibrium is at: [0.25 0.25 0.25]\n"
     ]
    }
   ],
   "source": [
    "solver = optimize.fsolve(nash_eq_3f,inital_values_3f, args = (param))\n",
    "print(f'The Nash Equilibrium is at: {solver}')"
   ]
  },
  {
   "cell_type": "code",
   "execution_count": 167,
   "id": "f4bf0daa-45db-4be8-b376-f04a53cf639f",
   "metadata": {},
   "outputs": [
    {
     "ename": "SyntaxError",
     "evalue": "invalid syntax (754598434.py, line 1)",
     "output_type": "error",
     "traceback": [
      "\u001b[0;36m  File \u001b[0;32m\"/var/folders/r2/1xrlyn0x2239x5svpgbg13_m0000gn/T/ipykernel_92083/754598434.py\"\u001b[0;36m, line \u001b[0;32m1\u001b[0m\n\u001b[0;31m    git fetch origin\u001b[0m\n\u001b[0m        ^\u001b[0m\n\u001b[0;31mSyntaxError\u001b[0m\u001b[0;31m:\u001b[0m invalid syntax\n"
     ]
    }
   ],
   "source": []
  }
 ],
 "metadata": {
  "kernelspec": {
   "display_name": "Python 3 (ipykernel)",
   "language": "python",
   "name": "python3"
  },
  "language_info": {
   "codemirror_mode": {
    "name": "ipython",
    "version": 3
   },
   "file_extension": ".py",
   "mimetype": "text/x-python",
   "name": "python",
   "nbconvert_exporter": "python",
   "pygments_lexer": "ipython3",
   "version": "3.9.7"
  }
 },
 "nbformat": 4,
 "nbformat_minor": 5
}
