{
 "cells": [
  {
   "cell_type": "code",
   "execution_count": 1,
   "id": "723fa30d-88ba-46fc-8317-66403dadf1ce",
   "metadata": {
    "tags": []
   },
   "outputs": [],
   "source": [
    "from types import SimpleNamespace\n",
    "import time\n",
    "import numpy as np\n",
    "import scipy as sp\n",
    "from scipy import linalg\n",
    "from scipy import optimize\n",
    "from scipy import interpolate\n",
    "import sympy as sm\n",
    "import math\n",
    "from math import log\n",
    "import matplotlib.pyplot as plt\n",
    "plt.style.use('seaborn-whitegrid')\n",
    "from numpy import array\n",
    "from scipy import optimize,arange\n",
    "\n",
    "%matplotlib inline\n",
    "from matplotlib.widgets import Slider, Button\n",
    "from __future__ import print_function\n",
    "from ipywidgets import interact, interactive, fixed, interact_manual\n",
    "import ipywidgets as widgets"
   ]
  },
  {
   "cell_type": "markdown",
   "id": "50792431-8bcc-499a-ad83-fe841e572938",
   "metadata": {},
   "source": [
    "# Cournot competition"
   ]
  },
  {
   "cell_type": "markdown",
   "id": "faa09f94-4ac0-45b1-a26e-0253686ecdd0",
   "metadata": {},
   "source": [
    "- We consider a market with two firms (firm 1 and firm 2). They produce a homogenous good.\n",
    "- They choose simultaneously what quantity to produce each. We note this as $q_1$ and $q_2$. The total quantity in the market is then given as $Q=q_1+q_2$.\n",
    "- The market price is decreasing in quantity and is given as: $P(Q)=a-Q$.\n",
    "- Both firms have the same marginal cost c, with $0 \\le c<a$, and no fixed cost.\n",
    "- The firms wish to maximize profits: ${\\pi}_i(q_i,q_j)=P(q_i+q_j)q_i-cq_i$ \n",
    "- or: ${\\pi_1}(q_1,q_2)=(a-q_1-q_2-c)q_1$ and ${\\pi_2}(q_1,q_2)=(a-q_1-q_2-c)q_2$\n",
    "- The solutions are best-response functions in a Nash Equilibrium where firm 1 is choosing the best response to firm 2 and vice versa."
   ]
  },
  {
   "cell_type": "markdown",
   "id": "30ed8590-d5d9-4fc9-9406-98c33afbb740",
   "metadata": {},
   "source": [
    "Shown more extensively, these are the profit functions of each firm:\n",
    "\n",
    "$$ \n",
    "π_1 (q_1 ,q_2 ) = (a - q_1 - q_2 - c)q_1 → q_1 = \\left(\\frac{a - q_2 -c}{2}\\right)\n",
    "$$\n",
    "$$ \n",
    "π_2 (q_1 ,q_2 ) = (a - q_1 - q_2 - c)q_2 →  q_2 = \\left(\\frac{a - q_1 -c}{2}\\right)\n",
    "$$\n",
    "\n",
    "By taking the first-order derivative with respect to $q_1$ and $q_2$, we obtain the following equations:\n",
    "\n",
    "$$ \n",
    "a - 2q_1 - q_2 - c = 0\n",
    "$$\n",
    "$$\n",
    "a - 2q_2 - q_1 - c = 0\n",
    "$$\n",
    "\n",
    "and the Best-Response functions for each firm. In the equlibrium we illustrate the best-response quantities with a *.\n",
    "\n",
    "$$ q_1^* = \\left(\\frac{a - q_2^*}{2}\\right) $$\n",
    "\n",
    "$$ q_2^* = \\left(\\frac{a - q_1^*}{2}\\right) $$\n",
    "\n",
    "In the Nash equlibrium, the optimal output level of both firms is given by:\n",
    "\n",
    "$$ q_1^* = q_2^* = \\left(\\frac{a - c}{3}\\right) $$\n",
    "\n",
    "In the equlibrium, the optimal quantity, price and profits are the following:\n",
    "\n",
    "$$ Q = 2 \\left(\\frac{a - c}{3}\\right) $$\n",
    "\n",
    "$$ P = a - 2 \\left(\\frac{a - c}{3}\\right) $$\n",
    "\n",
    "$$ π_1 (q_1^* ,q_2^* ) = P(Q^*)q_1^* - cq_1^* = \\left(\\frac{a + 2c}{3}\\right) - c\\left(\\frac{a - c}{3}\\right) $$\n",
    "\n",
    "$$ = \\left(\\frac{a - c}{3}\\right)^2 $$"
   ]
  },
  {
   "cell_type": "code",
   "execution_count": 2,
   "id": "0e82afe7-15c8-4ea9-9a6c-175a56c3b19e",
   "metadata": {
    "tags": []
   },
   "outputs": [],
   "source": [
    "#defining variables\n",
    "Q=sm.symbols(\"Q\")\n",
    "q1=sm.symbols(\"q_1\") \n",
    "q2=sm.symbols(\"q_2\")\n",
    "q1_star=sm.symbols(\"q_1^*\") \n",
    "q2_star=sm.symbols(\"q_2^*\")\n",
    "qi=sm.symbols(\"q_i\") \n",
    "qj=sm.symbols(\"q_j\")\n",
    "P=sm.symbols(\"P\")\n",
    "pi_1=sm.symbols(\"\\pi_1\")\n",
    "pi_2=sm.symbols(\"\\pi_2\")\n",
    "\n",
    "#defining paraameters\n",
    "a=sm.symbols(\"a\")\n",
    "c=sm.symbols(\"c\")\n"
   ]
  },
  {
   "cell_type": "markdown",
   "id": "a9ad6a03-0c08-4573-92e5-e668a7b331ae",
   "metadata": {},
   "source": [
    "# Analytical solution"
   ]
  },
  {
   "cell_type": "markdown",
   "id": "c763c0be-eb24-46ed-8baf-0583f21876d4",
   "metadata": {},
   "source": [
    "To find the analytical solution, we find the derivative for each profit function as the firms wish to maximize profits."
   ]
  },
  {
   "cell_type": "markdown",
   "id": "7baa712a-6717-4677-83c5-68bb8a5c2a9a",
   "metadata": {},
   "source": [
    "Solve in **five steps**:\n",
    "\n",
    "1. **Take the derivative** wrt. $q_1$\n",
    "2. **Isolate** $q_2$ from the foc for firm 1\n",
    "3. **Substitute** in $q_2$ for firm 2\n",
    "4. **Solve the FOC** for $q_1$\n",
    "5. **substitute** to find $q_2$"
   ]
  },
  {
   "cell_type": "code",
   "execution_count": 3,
   "id": "72c408c4-511c-43b1-8ee1-9a4e352b7a13",
   "metadata": {
    "tags": []
   },
   "outputs": [],
   "source": [
    "#defining functions\n",
    "profit_1=(a-q1-q2-c)*q1\n",
    "profit_2=(a-q1-q2-c)*q2"
   ]
  },
  {
   "cell_type": "code",
   "execution_count": 4,
   "id": "f0650913-4057-4a17-8c98-642c13d5ae21",
   "metadata": {
    "tags": []
   },
   "outputs": [
    {
     "data": {
      "text/plain": [
       "(a - c - 2*q_1 - q_2, a - c - q_1 - 2*q_2)"
      ]
     },
     "execution_count": 4,
     "metadata": {},
     "output_type": "execute_result"
    }
   ],
   "source": [
    "#take derivatives\n",
    "foc_1 = sm.diff(profit_1,q1)\n",
    "foc_2 = sm.diff(profit_2,q2)\n",
    "foc_1,foc_2"
   ]
  },
  {
   "cell_type": "code",
   "execution_count": 5,
   "id": "bf8ab692-8f4c-4211-9d14-09f36e8f1bba",
   "metadata": {
    "tags": []
   },
   "outputs": [
    {
     "data": {
      "text/latex": [
       "$\\displaystyle \\frac{a}{2} - \\frac{c}{2} - \\frac{q_{2}}{2}$"
      ],
      "text/plain": [
       "a/2 - c/2 - q_2/2"
      ]
     },
     "execution_count": 5,
     "metadata": {},
     "output_type": "execute_result"
    }
   ],
   "source": [
    "#isolate q_1 in foc_1\n",
    "q1_from_profit_1 = sm.solve(sm.Eq(foc_1,0), q1)\n",
    "q1_from_profit_1[0]"
   ]
  },
  {
   "cell_type": "code",
   "execution_count": 6,
   "id": "490cbb2b-a9be-47c7-be3c-6d292a21b3fb",
   "metadata": {},
   "outputs": [
    {
     "data": {
      "text/latex": [
       "$\\displaystyle q^{*}_{1} = \\frac{a}{2} - \\frac{c}{2} - \\frac{3 q_{2}}{2}$"
      ],
      "text/plain": [
       "Eq(q_1^*, a/2 - c/2 - 3*q_2/2)"
      ]
     },
     "execution_count": 6,
     "metadata": {},
     "output_type": "execute_result"
    }
   ],
   "source": [
    "#substitute in to foc_2 \n",
    "foc_2_subs=foc_2.subs(q1,q1_from_profit_1[0])\n",
    "sm.Eq(q1_star,foc_2_subs)"
   ]
  },
  {
   "cell_type": "code",
   "execution_count": 7,
   "id": "c7859d3b-61fd-4b48-a570-dd5b10afbc0b",
   "metadata": {
    "tags": []
   },
   "outputs": [
    {
     "data": {
      "text/latex": [
       "$\\displaystyle q^{*}_{2} = \\frac{a}{3} - \\frac{c}{3}$"
      ],
      "text/plain": [
       "Eq(q_2^*, a/3 - c/3)"
      ]
     },
     "execution_count": 7,
     "metadata": {},
     "output_type": "execute_result"
    }
   ],
   "source": [
    "#isolate q2\n",
    "q_2_foc_2_subs=sm.solve(sm.Eq(foc_2_subs,0), q2)\n",
    "sm.Eq(q2_star,q_2_foc_2_subs[0])"
   ]
  },
  {
   "cell_type": "markdown",
   "id": "2a68388b-a8e1-41c1-bd34-b1cac0ec6aa9",
   "metadata": {},
   "source": [
    "As the firms produce a homogenous good, we get the following solution:\n",
    "$q_1^*=q_2^*=(a-c)/3$"
   ]
  },
  {
   "cell_type": "markdown",
   "id": "d4ec6e74-e216-4229-b091-8d125410a9a9",
   "metadata": {},
   "source": [
    "# Numerical solution"
   ]
  },
  {
   "cell_type": "code",
   "execution_count": 8,
   "id": "e1ba42c1-36f4-4b65-add7-df1368918513",
   "metadata": {
    "tags": []
   },
   "outputs": [],
   "source": [
    "#defining functions\n",
    "#market price as a function of quantity\n",
    "def p(q1,q2,a,b):\n",
    "    p = a - q1 - b*q2\n",
    "    return p\n",
    "\n",
    "\n",
    "#profits for firm 1\n",
    "def pi_1(q1,q2,a,b,c):\n",
    "    profits_1 = (p(q1,q2,a,b)-c)*q1\n",
    "    return profits_1\n",
    "\n",
    "#profits for firm 2\n",
    "def pi_2(q1,q2,a,b,c):\n",
    "    profits_2 = (p(q1,q2,a,b)-c)*q2\n",
    "    return profits_2"
   ]
  },
  {
   "cell_type": "code",
   "execution_count": 9,
   "id": "9aefda88-8846-4d1f-a311-d481cbcbf5fb",
   "metadata": {},
   "outputs": [],
   "source": [
    "#Defining a lower boundary, the lowest value of production quantity\n",
    "q0 = [0]\n",
    "\n",
    "#best responses \n",
    "def bestresp_1(q2,a,b,c):\n",
    "    q1_star_num = optimize.minimize(lambda q0: -pi_1(q0,q2,a,b,c), q0).x[0]\n",
    "    return q1_star_num\n",
    "\n",
    "def bestresp_2(q1,a,b,c):\n",
    "    q2_star_num = optimize.minimize(lambda q0: -pi_2(q1,q0,a,b,c), q0).x[0]\n",
    "    return q2_star_num"
   ]
  },
  {
   "cell_type": "code",
   "execution_count": 10,
   "id": "b7c79b81-ad1a-4d7e-8088-c6f004a17bfb",
   "metadata": {
    "tags": []
   },
   "outputs": [],
   "source": [
    "#Defining a nash-equilibrium as a fixed point\n",
    "def nash_eq(q,param): # vector param = (a,c)\n",
    "    return np.array(q)-np.array([bestresp_1(q[1],param[0],param[1],param[2]),bestresp_2(q[0],param[0],param[1],param[2])])"
   ]
  },
  {
   "cell_type": "code",
   "execution_count": 11,
   "id": "2213a7a5-227d-4c1b-a2de-42bbeeb401ce",
   "metadata": {},
   "outputs": [],
   "source": [
    "#setting values, a and c\n",
    "inital_values = [0.1,0.1]\n",
    "param = [10,1,2]"
   ]
  },
  {
   "cell_type": "code",
   "execution_count": 12,
   "id": "a2a1cf6f-58c3-416a-8a5b-b4003911da0b",
   "metadata": {},
   "outputs": [
    {
     "name": "stdout",
     "output_type": "stream",
     "text": [
      "The Nash Equilibrium is at: [2.66666659 2.66666669]\n"
     ]
    }
   ],
   "source": [
    "solver = optimize.fsolve(nash_eq,inital_values, args = (param))\n",
    "print(f'The Nash Equilibrium is at: {solver}')"
   ]
  },
  {
   "cell_type": "markdown",
   "id": "66c7a43e-3fd6-42eb-a478-d9a8e712d0ae",
   "metadata": {},
   "source": [
    "In a Cournot competition with 2 firms, a = 10 and c=2. The firms will each produce 2,666"
   ]
  },
  {
   "cell_type": "markdown",
   "id": "da7abc0f-12bf-4d15-9cd0-7ea1e11eadf8",
   "metadata": {},
   "source": [
    "# Plotting the results in (interactive) graphs"
   ]
  },
  {
   "cell_type": "markdown",
   "id": "97647e5c-6e39-4e9e-94f0-9300c07702bb",
   "metadata": {},
   "source": [
    "In this section we intend to to two plots, one plot of the best responses and an interactive plot where the user can change the value of b."
   ]
  },
  {
   "cell_type": "code",
   "execution_count": 13,
   "id": "d133da6e-8117-4abd-a8f0-92e828342fa3",
   "metadata": {},
   "outputs": [
    {
     "data": {
      "text/plain": [
       "[<matplotlib.lines.Line2D at 0x7a535dd99bb0>]"
      ]
     },
     "execution_count": 13,
     "metadata": {},
     "output_type": "execute_result"
    },
    {
     "data": {
      "image/png": "[encoded data removed]",
      "text/plain": [
       "<Figure size 432x288 with 1 Axes>"
      ]
     },
     "metadata": {
      "needs_background": "light"
     },
     "output_type": "display_data"
    }
   ],
   "source": [
    "production_f2 = np.arange(0,5,0.1)\n",
    "production_f1 = []\n",
    "\n",
    "# b: creating figure \n",
    "for q2 in production_f2:\n",
    "    q1 = round(bestresp_1(q2,8,1,0),3)\n",
    "    production_f1.append(q1)\n",
    "\n",
    "plt.title(\"Best responses function and the Nash equilibrium\")\n",
    "plt.ylabel(\"$q_1$\")\n",
    "plt.xlabel(\"$q_2$\")\n",
    "plt.plot(production_f2, production_f1, color='blue')\n",
    "plt.plot(production_f1, production_f2, color='magenta')\n"
   ]
  },
  {
   "cell_type": "markdown",
   "id": "8118262d-9bbf-461f-a156-ebd6ec565d2b",
   "metadata": {},
   "source": [
    "This graph illustrate the best responds functions for the two firms. The intersection of the two lines illustrates the Nash equilibria we found in the numerical solution above (2,6666  2,6666)."
   ]
  },
  {
   "cell_type": "markdown",
   "id": "53baf3a0-3777-4f99-a95f-1081dfc20fa5",
   "metadata": {},
   "source": [
    "In the following interactive graph, we want to see what happens if $b≠1$ so the goods are not perfect subtitutes."
   ]
  },
  {
   "cell_type": "code",
   "execution_count": 14,
   "id": "60962d06-c895-4868-bd21-88fb6ddf9b6e",
   "metadata": {},
   "outputs": [
    {
     "data": {
      "application/vnd.jupyter.widget-view+json": {
       "model_id": "ee2a6e0121984dc99107cd6cc24bf10c",
       "version_major": 2,
       "version_minor": 0
      },
      "text/plain": [
       "interactive(children=(FloatSlider(value=1.0, description='$b$', max=5.0, min=1.0), Output()), _dom_classes=('w…"
      ]
     },
     "metadata": {},
     "output_type": "display_data"
    },
    {
     "data": {
      "text/plain": [
       "<function __main__.f(substitution_rate)>"
      ]
     },
     "execution_count": 14,
     "metadata": {},
     "output_type": "execute_result"
    }
   ],
   "source": [
    "# a: defining production levels \n",
    "q_1_interactive = np.arange(0,1,0.1)\n",
    "q_2_interactive = np.arange(0,1,0.1)\n",
    "\n",
    "# b: \n",
    "def f(substitution_rate):\n",
    "\n",
    "    x = []\n",
    "    y = []\n",
    "\n",
    "    for q2 in q_2_interactive:\n",
    "        q1 = round(bestresp_1(q2,10,substitution_rate,2),3)\n",
    "        x.append(q1)\n",
    "\n",
    "    for q1 in q_1_interactive:\n",
    "        q2 = round(bestresp_2(q1,10,substitution_rate,2),3)\n",
    "        y.append(q2)\n",
    "\n",
    "    plt.title(\"Best response for firm 1 (pink) and best response for\\nfirm 2 (blue) given produciton level of the other firm\")\n",
    "    plt.ylabel(\"$BR(q_i)$\")\n",
    "    plt.xlabel(\"$q_i$\")\n",
    "    plt.plot(q_2_interactive,x,color='blue')\n",
    "    plt.plot(q_1_interactive,y,color='magenta')\n",
    "\n",
    "widgets.interact(f,\n",
    "    substitution_rate = widgets.FloatSlider(description=\"$b$\",min=1,max=5),\n",
    " )"
   ]
  },
  {
   "cell_type": "markdown",
   "id": "9cab95ba-418c-478f-aa0f-511a11aef6a1",
   "metadata": {},
   "source": [
    "According to the analytical solution, the optimal quantity for firm 2, $q_2^*$, will be lower when b is higher. This is also what see in the graph. As b tends to infinity, $q_2^*$ tends to 0."
   ]
  },
  {
   "cell_type": "markdown",
   "id": "58a96133-1b83-41dd-b286-f2e6f24e3747",
   "metadata": {},
   "source": [
    "# Model extension: Cournot model with three firms"
   ]
  },
  {
   "cell_type": "markdown",
   "id": "5c84060c-9c37-40ca-befb-a1bead6c233a",
   "metadata": {},
   "source": [
    "We will now extend our model by adding an additional firm"
   ]
  },
  {
   "cell_type": "code",
   "execution_count": 15,
   "id": "90a48b23-ff17-46ba-8ab7-2cb44de87453",
   "metadata": {},
   "outputs": [],
   "source": [
    "# Define the functions for the three-firms case\n",
    "def p(q1,q2,q3,a):\n",
    "    p = a - q1 - q2 - q3\n",
    "    return p\n",
    "\n",
    "def cost(q,c1):\n",
    "    cost = q*c\n",
    "    return cost\n",
    "\n",
    "#profits for firm 1\n",
    "def pi_1(q1,q2,q3,a,c):\n",
    "    profits_1 = (p(q1,q2,q3,a)-c)*q1\n",
    "    return profits_1\n",
    "\n",
    "#profits for firm 2\n",
    "def pi_2(q1,q2,q3,a,c):\n",
    "    profits_2 = (p(q1,q2,q3,a)-c)*q2\n",
    "    return profits_2\n",
    "\n",
    "#profits for firm 3\n",
    "def pi_3(q1,q2,q3,a,c):\n",
    "    profits_3 = (p(q1,q2,q3,a)-c)*q3\n",
    "    return profits_3"
   ]
  },
  {
   "cell_type": "code",
   "execution_count": 16,
   "id": "778f470c-b948-40f7-a8c7-542323a59b5b",
   "metadata": {},
   "outputs": [],
   "source": [
    "#Lowest value\n",
    "q0 = [0]\n",
    "\n",
    "#best responses \n",
    "def bestresp_1(q2,q3,a,c):\n",
    "    q1_star_num = optimize.minimize(lambda q0: -pi_1(q0,q2,q3,a,c), q0).x[0]\n",
    "    return q1_star_num\n",
    "\n",
    "def bestresp_2(q1,q3,a,c):\n",
    "    q2_star_num = optimize.minimize(lambda q0: -pi_2(q1,q0,q3,a,c), q0).x[0]\n",
    "    return q2_star_num\n",
    "\n",
    "def bestresp_3(q1,q2,a,c):\n",
    "    q3_star_num = optimize.minimize(lambda q0: -pi_3(q1,q2,q0,a,c), q0).x[0]\n",
    "    return q3_star_num"
   ]
  },
  {
   "cell_type": "code",
   "execution_count": 17,
   "id": "a206a57b-347b-48fb-95fd-f6a5a9cac728",
   "metadata": {},
   "outputs": [],
   "source": [
    "#defining nash equilibrium\n",
    "def nash_eq_3f(q,param):\n",
    "    x = q[0] - bestresp_1(q[1],q[2],param[0],param[1])\n",
    "    y = q[1] - bestresp_2(q[0],q[2],param[0],param[1])\n",
    "    z = q[2] - bestresp_3(q[0],q[1],param[0],param[1])\n",
    "    return [x,y,z]"
   ]
  },
  {
   "cell_type": "code",
   "execution_count": 18,
   "id": "d84a741b-b81e-4361-99a1-12728970d26f",
   "metadata": {},
   "outputs": [],
   "source": [
    "inital_values_3f = [1,1,1]\n",
    "param = [10,2]"
   ]
  },
  {
   "cell_type": "code",
   "execution_count": 19,
   "id": "292d4dcb-25b9-401d-95e7-7d6812367f13",
   "metadata": {},
   "outputs": [
    {
     "name": "stdout",
     "output_type": "stream",
     "text": [
      "The Nash Equilibrium is at: [2. 2. 2.]\n"
     ]
    }
   ],
   "source": [
    "#solving for three firms\n",
    "solver = optimize.fsolve(nash_eq_3f,inital_values_3f, args = (param))\n",
    "print(f'The Nash Equilibrium is at: {solver}')"
   ]
  },
  {
   "cell_type": "markdown",
   "id": "80851fdc-6185-4381-b9d5-b3a63f94a9e7",
   "metadata": {},
   "source": [
    "We see that in a cournot competition with three firms and parameters (a,c)=(2,10) each firm will produce 2 unties each. Furthermore, we see that when extending the model with an additional firm. The total output of the market increases."
   ]
  },
  {
   "cell_type": "markdown",
   "id": "bf3a5f32-e14e-44ef-a69c-9977b498dff9",
   "metadata": {},
   "source": [
    "# Conclusion"
   ]
  },
  {
   "cell_type": "markdown",
   "id": "8f9f5875-10ab-436e-9e19-6a8fa851f34d",
   "metadata": {},
   "source": [
    "In this assingment we have solved the problem of af cournot competition with 2 and 3 firms. This could easily be extended to more firm if one wanted to do so. There are no new conclusions that we have never seen before."
   ]
  }
 ],
 "metadata": {
  "kernelspec": {
   "display_name": "Python 3 (ipykernel)",
   "language": "python",
   "name": "python3"
  },
  "language_info": {
   "codemirror_mode": {
    "name": "ipython",
    "version": 3
   },
   "file_extension": ".py",
   "mimetype": "text/x-python",
   "name": "python",
   "nbconvert_exporter": "python",
   "pygments_lexer": "ipython3",
   "version": "3.9.7"
  }
 },
 "nbformat": 4,
 "nbformat_minor": 5
}
