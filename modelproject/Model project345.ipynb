{
 "cells": [
  {
   "cell_type": "code",
   "execution_count": 150,
   "id": "723fa30d-88ba-46fc-8317-66403dadf1ce",
   "metadata": {
    "tags": []
   },
   "outputs": [],
   "source": [
    "from types import SimpleNamespace\n",
    "import time\n",
    "import numpy as np\n",
    "import scipy as sp\n",
    "from scipy import linalg\n",
    "from scipy import optimize\n",
    "from scipy import interpolate\n",
    "import sympy as sm\n",
    "import math\n",
    "from math import log\n",
    "import matplotlib.pyplot as plt\n",
    "plt.style.use('seaborn-whitegrid')\n",
    "from matplotlib import cm\n",
    "from mpl_toolkits.mplot3d import Axes3D\n",
    "from numpy import array\n",
    "from scipy import optimize,arange\n",
    "\n",
    "%matplotlib inline\n",
    "import plotly.graph_objects as go\n",
    "from matplotlib.widgets import Slider, Button\n",
    "from __future__ import print_function\n",
    "from ipywidgets import interact, interactive, fixed, interact_manual\n",
    "import ipywidgets as widgets"
   ]
  },
  {
   "cell_type": "markdown",
   "id": "50792431-8bcc-499a-ad83-fe841e572938",
   "metadata": {},
   "source": [
    "# Cournot competition"
   ]
  },
  {
   "cell_type": "markdown",
   "id": "faa09f94-4ac0-45b1-a26e-0253686ecdd0",
   "metadata": {},
   "source": [
    "- We consider a market with two firms (firm 1 and firm 2). They produce a homogenous good.\n",
    "- They choose simultaneously what quantity to produce each. We note this as $q_1$ and $q_2$. The total quantity in the market is then given as $Q=q_1+q_2$.\n",
    "- The market price is decreasing in quantity and is given as: $P(Q)=a-Q$.\n",
    "- Both firms have the same marginal cost c, with $0 \\le c<a$, and no fixed cost.\n",
    "- The firms wish to maximize profits: ${\\pi}_i(q_i,q_j)=P(q_i+q_j)q_i-cq_i$ \n",
    "- or: ${\\pi_1}(q_1,q_2)=(a-q_1-q_2-c)q_1$ and ${\\pi_2}(q_1,q_2)=(a-q_1-q_2-c)q_2$\n",
    "- The solutions are best-response functions in a Nash Equilibrium where firm 1 is choosing the best response to firm 2 and vice versa."
   ]
  },
  {
   "cell_type": "markdown",
   "id": "30ed8590-d5d9-4fc9-9406-98c33afbb740",
   "metadata": {},
   "source": [
    "Shown more extensively, these are the profit functions of each firm:\n",
    "\n",
    "$$ \n",
    "π_1 (q_1 ,q_2 ) = (a - q_1 - q_2 - c)q_1 → q_1 = \\left(\\frac{a - q_2 -c}{2}\\right)\n",
    "$$\n",
    "$$ \n",
    "π_2 (q_1 ,q_2 ) = (a - q_1 - q_2 - c)q_2 →  q_2 = \\left(\\frac{a - q_1 -c}{2}\\right)\n",
    "$$\n",
    "\n",
    "By taking the first-order derivative with respect to $q_1$ and $q_2$, we obtain the following equations:\n",
    "\n",
    "$$ \n",
    "a - 2q_1 - q_2 - c = 0\n",
    "$$\n",
    "$$\n",
    "a - 2q_2 - q_1 - c = 0\n",
    "$$\n",
    "\n",
    "and the Best-Response functions for each firm. In the equlibrium we illustrate the best-response quantities with a *.\n",
    "\n",
    "$$ q_1^* = \\left(\\frac{a - q_2^*}{2}\\right) $$\n",
    "\n",
    "$$ q_2^* = \\left(\\frac{a - q_1^*}{2}\\right) $$\n",
    "\n",
    "In the Nash equlibrium, the optimal output level of both firms is given by:\n",
    "\n",
    "$$ q_1^* = q_2^* = \\left(\\frac{a - c}{3}\\right) $$\n",
    "\n",
    "In the equlibrium, the optimal quantity, price and profits are the following:\n",
    "\n",
    "$$ Q = 2 \\left(\\frac{a - c}{3}\\right) $$\n",
    "\n",
    "$$ P = a - 2 \\left(\\frac{a - c}{3}\\right) $$\n",
    "\n",
    "$$ π_1 (q_1^* ,q_2^* ) = P(Q^*)q_1^* - cq_1^* = \\left(\\frac{a + 2c}{3}\\right) - c\\left(\\frac{a - c}{3}\\right) $$\n",
    "\n",
    "$$ = \\left(\\frac{a - c}{3}\\right)^2 $$"
   ]
  },
  {
   "cell_type": "code",
   "execution_count": 151,
   "id": "0e82afe7-15c8-4ea9-9a6c-175a56c3b19e",
   "metadata": {
    "tags": []
   },
   "outputs": [],
   "source": [
    "#defining variables\n",
    "Q=sm.symbols(\"Q\")\n",
    "q1=sm.symbols(\"q_1\") \n",
    "q2=sm.symbols(\"q_2\")\n",
    "q1_star=sm.symbols(\"q_1^*\") \n",
    "q2_star=sm.symbols(\"q_2^*\")\n",
    "qi=sm.symbols(\"q_i\") \n",
    "qj=sm.symbols(\"q_j\")\n",
    "P=sm.symbols(\"P\")\n",
    "pi_1=sm.symbols(\"\\pi_1\")\n",
    "pi_2=sm.symbols(\"\\pi_2\")\n",
    "\n",
    "#defining paraameters\n",
    "a=sm.symbols(\"a\")\n",
    "c=sm.symbols(\"c\")\n"
   ]
  },
  {
   "cell_type": "markdown",
   "id": "a9ad6a03-0c08-4573-92e5-e668a7b331ae",
   "metadata": {},
   "source": [
    "# Analytical solution"
   ]
  },
  {
   "cell_type": "markdown",
   "id": "c763c0be-eb24-46ed-8baf-0583f21876d4",
   "metadata": {},
   "source": [
    "To find the analytical solution, we find the derivative for each profit function as the firms wish to maximize profits."
   ]
  },
  {
   "cell_type": "markdown",
   "id": "7baa712a-6717-4677-83c5-68bb8a5c2a9a",
   "metadata": {},
   "source": [
    "Solve in **five steps**:\n",
    "\n",
    "1. **Take the derivative** wrt. $q_1$\n",
    "2. **Isolate** $q_2$ from the foc for firm 1\n",
    "3. **Substitute** in $q_2$ for firm 2\n",
    "4. **Solve the FOC** for $q_1$\n",
    "5. **substitute** to find $q_2$"
   ]
  },
  {
   "cell_type": "code",
   "execution_count": 152,
   "id": "72c408c4-511c-43b1-8ee1-9a4e352b7a13",
   "metadata": {
    "tags": []
   },
   "outputs": [],
   "source": [
    "#defining functions\n",
    "profit_1=(a-q1-q2-c)*q1\n",
    "profit_2=(a-q1-q2-c)*q2"
   ]
  },
  {
   "cell_type": "code",
   "execution_count": 153,
   "id": "f0650913-4057-4a17-8c98-642c13d5ae21",
   "metadata": {
    "tags": []
   },
   "outputs": [
    {
     "data": {
      "text/plain": [
       "(a - c - 2*q_1 - q_2, a - c - q_1 - 2*q_2)"
      ]
     },
     "execution_count": 153,
     "metadata": {},
     "output_type": "execute_result"
    }
   ],
   "source": [
    "#take derivatives\n",
    "foc_1 = sm.diff(profit_1,q1)\n",
    "foc_2 = sm.diff(profit_2,q2)\n",
    "foc_1,foc_2"
   ]
  },
  {
   "cell_type": "code",
   "execution_count": 154,
   "id": "bf8ab692-8f4c-4211-9d14-09f36e8f1bba",
   "metadata": {
    "tags": []
   },
   "outputs": [
    {
     "data": {
      "text/latex": [
       "$\\displaystyle \\frac{a}{2} - \\frac{c}{2} - \\frac{q_{2}}{2}$"
      ],
      "text/plain": [
       "a/2 - c/2 - q_2/2"
      ]
     },
     "execution_count": 154,
     "metadata": {},
     "output_type": "execute_result"
    }
   ],
   "source": [
    "#isolate q_1 in foc_1\n",
    "q1_from_profit_1 = sm.solve(sm.Eq(foc_1,0), q1)\n",
    "q1_from_profit_1[0]"
   ]
  },
  {
   "cell_type": "code",
   "execution_count": 155,
   "id": "490cbb2b-a9be-47c7-be3c-6d292a21b3fb",
   "metadata": {},
   "outputs": [
    {
     "data": {
      "text/latex": [
       "$\\displaystyle q^{*}_{1} = \\frac{a}{2} - \\frac{c}{2} - \\frac{3 q_{2}}{2}$"
      ],
      "text/plain": [
       "Eq(q_1^*, a/2 - c/2 - 3*q_2/2)"
      ]
     },
     "execution_count": 155,
     "metadata": {},
     "output_type": "execute_result"
    }
   ],
   "source": [
    "#substitute in to foc_2 \n",
    "foc_2_subs=foc_2.subs(q1,q1_from_profit_1[0])\n",
    "sm.Eq(q1_star,foc_2_subs)"
   ]
  },
  {
   "cell_type": "code",
   "execution_count": 156,
   "id": "c7859d3b-61fd-4b48-a570-dd5b10afbc0b",
   "metadata": {
    "tags": []
   },
   "outputs": [
    {
     "data": {
      "text/latex": [
       "$\\displaystyle q^{*}_{2} = \\frac{a}{3} - \\frac{c}{3}$"
      ],
      "text/plain": [
       "Eq(q_2^*, a/3 - c/3)"
      ]
     },
     "execution_count": 156,
     "metadata": {},
     "output_type": "execute_result"
    }
   ],
   "source": [
    "#isolate q2\n",
    "q_2_foc_2_subs=sm.solve(sm.Eq(foc_2_subs,0), q2)\n",
    "sm.Eq(q2_star,q_2_foc_2_subs[0])"
   ]
  },
  {
   "cell_type": "markdown",
   "id": "2a68388b-a8e1-41c1-bd34-b1cac0ec6aa9",
   "metadata": {},
   "source": [
    "As the firms produce a homogenous good, we get the following solution:\n",
    "$q_1^*=q_2^*=(a-c)/3$"
   ]
  },
  {
   "cell_type": "markdown",
   "id": "d4ec6e74-e216-4229-b091-8d125410a9a9",
   "metadata": {},
   "source": [
    "# Numerical solution"
   ]
  },
  {
   "cell_type": "code",
   "execution_count": 157,
   "id": "e1ba42c1-36f4-4b65-add7-df1368918513",
   "metadata": {
    "tags": []
   },
   "outputs": [],
   "source": [
    "#defining functions\n",
    "#market price as a function of quantity\n",
    "def p(q1,q2,a):\n",
    "    p = a - q1 - q2\n",
    "    return p\n",
    "\n",
    "def Q(q1,q2):\n",
    "    Q=q1+q2\n",
    "    return Q\n",
    "\n",
    "def cost(q,c):\n",
    "    cost = q*c\n",
    "    return cost\n",
    "\n",
    "#profits for firm 1\n",
    "def pi_1(q1,q2,a,c):\n",
    "    profits_1 = (p(q1,q2,a)-c)*q1\n",
    "    return profits_1\n",
    "\n",
    "#profits for firm 2\n",
    "def pi_2(q1,q2,a,c):\n",
    "    profits_2 = (p(q1,q2,a)-c)*q2\n",
    "    return profits_2"
   ]
  },
  {
   "cell_type": "code",
   "execution_count": 158,
   "id": "9aefda88-8846-4d1f-a311-d481cbcbf5fb",
   "metadata": {},
   "outputs": [],
   "source": [
    "#Lowest value\n",
    "q0 = [0]\n",
    "\n",
    "#best responses \n",
    "def bestresp_1(q2,a,c):\n",
    "    q1_star_num = optimize.minimize(lambda q0: -pi_1(q0,q2,a,c), q0).x[0]\n",
    "    return q1_star_num\n",
    "\n",
    "def bestresp_2(q1,a,c):\n",
    "    q2_star_num = optimize.minimize(lambda q0: -pi_2(q1,q0,a,c), q0).x[0]\n",
    "    return q2_star_num"
   ]
  },
  {
   "cell_type": "code",
   "execution_count": 159,
   "id": "b7c79b81-ad1a-4d7e-8088-c6f004a17bfb",
   "metadata": {
    "tags": []
   },
   "outputs": [],
   "source": [
    "#defining nash equilibrium\n",
    "def nash_eq(q,param):\n",
    "    x = q[0] - bestresp_1(q[1],param[0],param[1])\n",
    "    y = q[1] - bestresp_2(q[0],param[0],param[1])\n",
    "    return [x,y]"
   ]
  },
  {
   "cell_type": "code",
   "execution_count": 160,
   "id": "7fb50751-8d65-4720-aa37-2bd221339a17",
   "metadata": {},
   "outputs": [],
   "source": [
    "#alt. definition (http://janboone.github.io/competition_policy_and_regulation/Collusion_Cournot/Collusion_Cournot.html?fbclid=IwAR0r6GQS8oBTqLwuc1berXM_yU14l-x4XuVoI1I2zeoN4j1ZNryrviFKhuM)\n",
    "def nash_eq(q,param): # vector param = (b,c1,c2)\n",
    "    return np.array(q)-np.array([bestresp_1(q[1],param[0],param[1]),bestresp_2(q[0],param[0],param[1])])"
   ]
  },
  {
   "cell_type": "code",
   "execution_count": 161,
   "id": "2213a7a5-227d-4c1b-a2de-42bbeeb401ce",
   "metadata": {},
   "outputs": [],
   "source": [
    "inital_values = [3,2]\n",
    "param = [3,2]"
   ]
  },
  {
   "cell_type": "code",
   "execution_count": 162,
   "id": "a2a1cf6f-58c3-416a-8a5b-b4003911da0b",
   "metadata": {},
   "outputs": [
    {
     "name": "stdout",
     "output_type": "stream",
     "text": [
      "The Nash Equilibrium is at: [0.33333333 0.33333333]\n"
     ]
    }
   ],
   "source": [
    "solver = optimize.fsolve(nash_eq,inital_values, args = (param))\n",
    "print(f'The Nash Equilibrium is at: {solver}')"
   ]
  },
  {
   "cell_type": "markdown",
   "id": "da7abc0f-12bf-4d15-9cd0-7ea1e11eadf8",
   "metadata": {},
   "source": [
    "# Plotting the results in interactive graphs"
   ]
  },
  {
   "cell_type": "code",
   "execution_count": null,
   "id": "6bad15e6-79b5-4150-b7bc-d0a2a95cb62e",
   "metadata": {},
   "outputs": [],
   "source": []
  },
  {
   "cell_type": "code",
   "execution_count": null,
   "id": "31f6a5eb-1903-4704-b836-c55ea17b62cf",
   "metadata": {},
   "outputs": [],
   "source": []
  },
  {
   "cell_type": "markdown",
   "id": "58a96133-1b83-41dd-b286-f2e6f24e3747",
   "metadata": {},
   "source": [
    "# Model extension: Cournot model with three firms"
   ]
  },
  {
   "cell_type": "code",
   "execution_count": 163,
   "id": "90a48b23-ff17-46ba-8ab7-2cb44de87453",
   "metadata": {},
   "outputs": [],
   "source": [
    "# Define the functions for the three-firms case\n",
    "def p(q1,q2,q3,a):\n",
    "    p = a - q1 - q2 - q3\n",
    "    return p\n",
    "\n",
    "def Q(q1,q2,q3):\n",
    "    Q=q1+q2+q3\n",
    "    return Q\n",
    "\n",
    "def cost(q,c):\n",
    "    cost = q*c\n",
    "    return cost\n",
    "\n",
    "#profits for firm 1\n",
    "def pi_1(q1,q2,q3,a,c):\n",
    "    profits_1 = (p(q1,q2,q3,a)-c)*q1\n",
    "    return profits_1\n",
    "\n",
    "#profits for firm 2\n",
    "def pi_2(q1,q2,q3,a,c):\n",
    "    profits_2 = (p(q1,q2,q3,a)-c)*q2\n",
    "    return profits_2\n",
    "\n",
    "#profits for firm 3\n",
    "def pi_3(q1,q2,q3,a,c):\n",
    "    profits_3 = (p(q1,q2,q3,a)-c)*q2\n",
    "    return profits_3"
   ]
  },
  {
   "cell_type": "code",
   "execution_count": 164,
   "id": "778f470c-b948-40f7-a8c7-542323a59b5b",
   "metadata": {},
   "outputs": [],
   "source": [
    "#Lowest value\n",
    "q0 = [0]\n",
    "\n",
    "#best responses \n",
    "def bestresp_1(q2,q3,a,c):\n",
    "    q1_star_num = optimize.minimize(lambda q0: -pi_1(q0,q2,q3,a,c), q0).x[0]\n",
    "    return q1_star_num\n",
    "\n",
    "def bestresp_2(q1,q3,a,c):\n",
    "    q2_star_num = optimize.minimize(lambda q0: -pi_2(q1,q0,q3,a,c), q0).x[0]\n",
    "    return q2_star_num\n",
    "\n",
    "def bestresp_3(q1,q2,a,c):\n",
    "    q3_star_num = optimize.minimize(lambda q0: -pi_3(q1,q2,q0,a,c), q0).x[0]\n",
    "    return q3_star_num"
   ]
  },
  {
   "cell_type": "code",
   "execution_count": 165,
   "id": "a206a57b-347b-48fb-95fd-f6a5a9cac728",
   "metadata": {},
   "outputs": [],
   "source": [
    "#defining nash equilibrium\n",
    "def nash_eq_3f(q,param):\n",
    "    x = q[0] - bestresp_1(q[1],q[2],param[0],param[1])\n",
    "    y = q[1] - bestresp_2(q[0],q[2],param[0],param[1])\n",
    "    z = q[2] - bestresp_3(q[0],q[1],param[0],param[1])\n",
    "    return [x,y,z]"
   ]
  },
  {
   "cell_type": "code",
   "execution_count": 166,
   "id": "d84a741b-b81e-4361-99a1-12728970d26f",
   "metadata": {},
   "outputs": [],
   "source": [
    "inital_values = [1,1,1]\n",
    "param = [11,2]"
   ]
  },
  {
   "cell_type": "code",
   "execution_count": 167,
   "id": "292d4dcb-25b9-401d-95e7-7d6812367f13",
   "metadata": {},
   "outputs": [
    {
     "name": "stderr",
     "output_type": "stream",
     "text": [
      "C:\\Users\\heta3\\.anaconda_empty\\lib\\site-packages\\scipy\\optimize\\optimize.py:1276: RuntimeWarning: overflow encountered in multiply\n",
      "  Hk = np.dot(A1, np.dot(Hk, A2)) + (rhok * sk[:, np.newaxis] *\n",
      "C:\\Users\\heta3\\.anaconda_empty\\lib\\site-packages\\scipy\\optimize\\linesearch.py:287: RuntimeWarning: invalid value encountered in multiply\n",
      "  return f(xk + alpha * pk, *args)\n",
      "C:\\Users\\heta3\\.anaconda_empty\\lib\\site-packages\\scipy\\optimize\\optimize.py:1276: RuntimeWarning: overflow encountered in multiply\n",
      "  Hk = np.dot(A1, np.dot(Hk, A2)) + (rhok * sk[:, np.newaxis] *\n",
      "C:\\Users\\heta3\\.anaconda_empty\\lib\\site-packages\\scipy\\optimize\\linesearch.py:287: RuntimeWarning: invalid value encountered in multiply\n",
      "  return f(xk + alpha * pk, *args)\n",
      "C:\\Users\\heta3\\.anaconda_empty\\lib\\site-packages\\scipy\\optimize\\optimize.py:1276: RuntimeWarning: overflow encountered in multiply\n",
      "  Hk = np.dot(A1, np.dot(Hk, A2)) + (rhok * sk[:, np.newaxis] *\n",
      "C:\\Users\\heta3\\.anaconda_empty\\lib\\site-packages\\scipy\\optimize\\linesearch.py:287: RuntimeWarning: invalid value encountered in multiply\n",
      "  return f(xk + alpha * pk, *args)\n",
      "C:\\Users\\heta3\\.anaconda_empty\\lib\\site-packages\\scipy\\optimize\\optimize.py:1276: RuntimeWarning: overflow encountered in multiply\n",
      "  Hk = np.dot(A1, np.dot(Hk, A2)) + (rhok * sk[:, np.newaxis] *\n",
      "C:\\Users\\heta3\\.anaconda_empty\\lib\\site-packages\\scipy\\optimize\\linesearch.py:287: RuntimeWarning: invalid value encountered in multiply\n",
      "  return f(xk + alpha * pk, *args)\n",
      "C:\\Users\\heta3\\.anaconda_empty\\lib\\site-packages\\scipy\\optimize\\optimize.py:1276: RuntimeWarning: overflow encountered in multiply\n",
      "  Hk = np.dot(A1, np.dot(Hk, A2)) + (rhok * sk[:, np.newaxis] *\n",
      "C:\\Users\\heta3\\.anaconda_empty\\lib\\site-packages\\scipy\\optimize\\linesearch.py:287: RuntimeWarning: invalid value encountered in multiply\n",
      "  return f(xk + alpha * pk, *args)\n"
     ]
    },
    {
     "name": "stdout",
     "output_type": "stream",
     "text": [
      "The Nash Equilibrium is at: [2.23420491 1.00000001 1.        ]\n"
     ]
    }
   ],
   "source": [
    "solver = optimize.fsolve(nash_eq_3f,inital_values, args = (param))\n",
    "print(f'The Nash Equilibrium is at: {solver}')"
   ]
  },
  {
   "cell_type": "code",
   "execution_count": null,
   "id": "e9447cee-04cd-4949-a730-1550c1a02ebd",
   "metadata": {},
   "outputs": [],
   "source": []
  },
  {
   "cell_type": "markdown",
   "id": "bf3a5f32-e14e-44ef-a69c-9977b498dff9",
   "metadata": {},
   "source": [
    "# Conclusion"
   ]
  },
  {
   "cell_type": "code",
   "execution_count": null,
   "id": "c5320146-347e-4bbf-9410-d0efab5b6741",
   "metadata": {},
   "outputs": [],
   "source": []
  }
 ],
 "metadata": {
  "kernelspec": {
   "display_name": "Python 3 (ipykernel)",
   "language": "python",
   "name": "python3"
  },
  "language_info": {
   "codemirror_mode": {
    "name": "ipython",
    "version": 3
   },
   "file_extension": ".py",
   "mimetype": "text/x-python",
   "name": "python",
   "nbconvert_exporter": "python",
   "pygments_lexer": "ipython3",
   "version": "3.9.7"
  }
 },
 "nbformat": 4,
 "nbformat_minor": 5
}
